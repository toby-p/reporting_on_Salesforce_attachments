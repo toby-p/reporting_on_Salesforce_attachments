{
 "cells": [
  {
   "cell_type": "markdown",
   "metadata": {},
   "source": [
    "### Reporting on Attachments from Salesforce\n",
    "\n",
    "For whatever reason Salesforce's standard reporting tool doesn't allow direct reporting from the Attachments object. Below is a simple example script to produce such a report using the simple_salesforce Python library.\n"
   ]
  },
  {
   "cell_type": "code",
   "execution_count": 1,
   "metadata": {
    "collapsed": false
   },
   "outputs": [],
   "source": [
    "# required libraries\n",
    "import time\n",
    "import pandas as pd\n",
    "from simple_salesforce import Salesforce\n",
    "\n",
    "# Replace the xxx's with your own Salesforce org and login details\n",
    "sf = Salesforce(password='xxxxxxxxxxxxxxxxxxxxxxxxx', \\\n",
    "                username='xxxxxxxxxxxxxxxxxxxxxxxxx', \\\n",
    "                organizationId='xxxxxxxxxxxxxxxxxxxxxxxxx',\\\n",
    "                security_token='xxxxxxxxxxxxxxxxxxxxxxxxx')"
   ]
  },
  {
   "cell_type": "markdown",
   "metadata": {},
   "source": [
    "In this example I'm going to get all attachments from Salesforce with the word 'key' in the title."
   ]
  },
  {
   "cell_type": "code",
   "execution_count": 2,
   "metadata": {
    "collapsed": false
   },
   "outputs": [
    {
     "data": {
      "text/html": [
       "<div>\n",
       "<table border=\"1\" class=\"dataframe\">\n",
       "  <thead>\n",
       "    <tr style=\"text-align: right;\">\n",
       "      <th></th>\n",
       "      <th>CreatedDate</th>\n",
       "      <th>Attachment_Name</th>\n",
       "      <th>OwnerId</th>\n",
       "    </tr>\n",
       "  </thead>\n",
       "  <tbody>\n",
       "    <tr>\n",
       "      <th>0</th>\n",
       "      <td>2017-01-12T09:42:12.000+0000</td>\n",
       "      <td>A.01.02 Key waiver.pdf</td>\n",
       "      <td>005b0000004pOvAAAU</td>\n",
       "    </tr>\n",
       "    <tr>\n",
       "      <th>1</th>\n",
       "      <td>2016-12-16T09:37:02.000+0000</td>\n",
       "      <td>A03.06 Key Release Permission Form.pdf</td>\n",
       "      <td>005b0000003ZalDAAS</td>\n",
       "    </tr>\n",
       "    <tr>\n",
       "      <th>2</th>\n",
       "      <td>2017-01-12T16:15:21.000+0000</td>\n",
       "      <td>B.08.03 Key Release Permission Form.pdf</td>\n",
       "      <td>005b0000001NLv1AAG</td>\n",
       "    </tr>\n",
       "    <tr>\n",
       "      <th>3</th>\n",
       "      <td>2017-01-11T12:07:54.000+0000</td>\n",
       "      <td>H.03.03 Key Waiver.pdf</td>\n",
       "      <td>005b0000004pOvAAAU</td>\n",
       "    </tr>\n",
       "    <tr>\n",
       "      <th>4</th>\n",
       "      <td>2016-02-25T16:20:48.000+0000</td>\n",
       "      <td>Key Facts Phase 3a.pdf</td>\n",
       "      <td>005b0000001NLuvAAG</td>\n",
       "    </tr>\n",
       "  </tbody>\n",
       "</table>\n",
       "</div>"
      ],
      "text/plain": [
       "                    CreatedDate                          Attachment_Name  \\\n",
       "0  2017-01-12T09:42:12.000+0000                   A.01.02 Key waiver.pdf   \n",
       "1  2016-12-16T09:37:02.000+0000   A03.06 Key Release Permission Form.pdf   \n",
       "2  2017-01-12T16:15:21.000+0000  B.08.03 Key Release Permission Form.pdf   \n",
       "3  2017-01-11T12:07:54.000+0000                   H.03.03 Key Waiver.pdf   \n",
       "4  2016-02-25T16:20:48.000+0000                   Key Facts Phase 3a.pdf   \n",
       "\n",
       "              OwnerId  \n",
       "0  005b0000004pOvAAAU  \n",
       "1  005b0000003ZalDAAS  \n",
       "2  005b0000001NLv1AAG  \n",
       "3  005b0000004pOvAAAU  \n",
       "4  005b0000001NLuvAAG  "
      ]
     },
     "execution_count": 2,
     "metadata": {},
     "output_type": "execute_result"
    }
   ],
   "source": [
    "# Get the Attachments with a SOQL query\n",
    "query= \"\"\"\n",
    "SELECT Name, CreatedDate, OwnerId\n",
    "FROM Attachment\n",
    "WHERE Name LIKE '%key%'\n",
    "\n",
    "\"\"\"\n",
    "\n",
    "result = sf.query_all(query)\n",
    "Attachment_df = pd.DataFrame(result['records']) # Stores the results in a Pandas dataframe\n",
    "Attachment_df.drop('attributes',axis=1,inplace=True) # Removes 'attributes' column which is not required\n",
    "Attachment_df.rename(columns={'Id':'AttachmentId','Name':'Attachment_Name'},inplace=True) # Renames the columns\n",
    "Attachment_df.head()  # Have a look at the first few rows to check it worked"
   ]
  },
  {
   "cell_type": "markdown",
   "metadata": {},
   "source": [
    "Having Salesforce IDs in the above is not particularly helpful if the report is to be read by a human being; so we can run reports on other objects and merge in the useful details. As an example I'll use 'OwnerId' to merge in the name of the user who added the attachment."
   ]
  },
  {
   "cell_type": "code",
   "execution_count": 3,
   "metadata": {
    "collapsed": false
   },
   "outputs": [
    {
     "data": {
      "text/html": [
       "<div>\n",
       "<table border=\"1\" class=\"dataframe\">\n",
       "  <thead>\n",
       "    <tr style=\"text-align: right;\">\n",
       "      <th></th>\n",
       "      <th>UserId</th>\n",
       "      <th>User_Name</th>\n",
       "    </tr>\n",
       "  </thead>\n",
       "  <tbody>\n",
       "    <tr>\n",
       "      <th>0</th>\n",
       "      <td>005b0000000wHPDAA2</td>\n",
       "      <td>James Smith</td>\n",
       "    </tr>\n",
       "    <tr>\n",
       "      <th>1</th>\n",
       "      <td>005b0000000wHPIAA2</td>\n",
       "      <td>Rob Jones</td>\n",
       "    </tr>\n",
       "    <tr>\n",
       "      <th>2</th>\n",
       "      <td>005b0000001ehRgAAI</td>\n",
       "      <td>Rebecca Cobby</td>\n",
       "    </tr>\n",
       "    <tr>\n",
       "      <th>3</th>\n",
       "      <td>005b0000001fTUJAA2</td>\n",
       "      <td>Maeve Barry</td>\n",
       "    </tr>\n",
       "    <tr>\n",
       "      <th>4</th>\n",
       "      <td>005b0000003YlQYAA0</td>\n",
       "      <td>Test Estates User</td>\n",
       "    </tr>\n",
       "  </tbody>\n",
       "</table>\n",
       "</div>"
      ],
      "text/plain": [
       "               UserId          User_Name\n",
       "0  005b0000000wHPDAA2        James Smith\n",
       "1  005b0000000wHPIAA2          Rob Jones\n",
       "2  005b0000001ehRgAAI      Rebecca Cobby\n",
       "3  005b0000001fTUJAA2        Maeve Barry\n",
       "4  005b0000003YlQYAA0  Test Estates User"
      ]
     },
     "execution_count": 3,
     "metadata": {},
     "output_type": "execute_result"
    }
   ],
   "source": [
    "# Get Users\n",
    "query= \"\"\"\n",
    "SELECT Id, Name\n",
    "FROM User\n",
    "\"\"\"\n",
    "result = sf.query_all(query)\n",
    "User_df = pd.DataFrame(result['records'])\n",
    "User_df.rename(columns={'Name':'User_Name','Id':'UserId'},inplace=True)\n",
    "User_df.drop('attributes',axis=1,inplace=True)\n",
    "User_df.head()"
   ]
  },
  {
   "cell_type": "markdown",
   "metadata": {},
   "source": [
    "Finally we can merge the 2 dataframes to produce a final report."
   ]
  },
  {
   "cell_type": "code",
   "execution_count": 4,
   "metadata": {
    "collapsed": false
   },
   "outputs": [
    {
     "data": {
      "text/html": [
       "<div>\n",
       "<table border=\"1\" class=\"dataframe\">\n",
       "  <thead>\n",
       "    <tr style=\"text-align: right;\">\n",
       "      <th></th>\n",
       "      <th>CreatedDate</th>\n",
       "      <th>Attachment_Name</th>\n",
       "      <th>User_Name</th>\n",
       "    </tr>\n",
       "  </thead>\n",
       "  <tbody>\n",
       "    <tr>\n",
       "      <th>0</th>\n",
       "      <td>2017-01-12T09:42:12.000+0000</td>\n",
       "      <td>A.01.02 Key waiver.pdf</td>\n",
       "      <td>Ellie Williams</td>\n",
       "    </tr>\n",
       "    <tr>\n",
       "      <th>1</th>\n",
       "      <td>2016-12-16T09:37:02.000+0000</td>\n",
       "      <td>A03.06 Key Release Permission Form.pdf</td>\n",
       "      <td>Rebecca Derbyshire</td>\n",
       "    </tr>\n",
       "    <tr>\n",
       "      <th>2</th>\n",
       "      <td>2017-01-12T16:15:21.000+0000</td>\n",
       "      <td>B.08.03 Key Release Permission Form.pdf</td>\n",
       "      <td>Mark Barclay</td>\n",
       "    </tr>\n",
       "    <tr>\n",
       "      <th>3</th>\n",
       "      <td>2017-01-11T12:07:54.000+0000</td>\n",
       "      <td>H.03.03 Key Waiver.pdf</td>\n",
       "      <td>Ellie Williams</td>\n",
       "    </tr>\n",
       "    <tr>\n",
       "      <th>4</th>\n",
       "      <td>2016-02-25T16:20:48.000+0000</td>\n",
       "      <td>Key Facts Phase 3a.pdf</td>\n",
       "      <td>Sarah Gorman</td>\n",
       "    </tr>\n",
       "  </tbody>\n",
       "</table>\n",
       "</div>"
      ],
      "text/plain": [
       "                    CreatedDate                          Attachment_Name  \\\n",
       "0  2017-01-12T09:42:12.000+0000                   A.01.02 Key waiver.pdf   \n",
       "1  2016-12-16T09:37:02.000+0000   A03.06 Key Release Permission Form.pdf   \n",
       "2  2017-01-12T16:15:21.000+0000  B.08.03 Key Release Permission Form.pdf   \n",
       "3  2017-01-11T12:07:54.000+0000                   H.03.03 Key Waiver.pdf   \n",
       "4  2016-02-25T16:20:48.000+0000                   Key Facts Phase 3a.pdf   \n",
       "\n",
       "            User_Name  \n",
       "0      Ellie Williams  \n",
       "1  Rebecca Derbyshire  \n",
       "2        Mark Barclay  \n",
       "3      Ellie Williams  \n",
       "4        Sarah Gorman  "
      ]
     },
     "execution_count": 4,
     "metadata": {},
     "output_type": "execute_result"
    }
   ],
   "source": [
    "final_report = pd.merge(Attachment_df,User_df,left_on='OwnerId',right_on='UserId',how='left')\n",
    "final_report.drop(['OwnerId','UserId'],axis=1,inplace=True)\n",
    "final_report.head()"
   ]
  },
  {
   "cell_type": "markdown",
   "metadata": {},
   "source": [
    "The report can then be easily exported to CSV as you would a report from within Salesforce."
   ]
  },
  {
   "cell_type": "code",
   "execution_count": 5,
   "metadata": {
    "collapsed": true
   },
   "outputs": [],
   "source": [
    "# Create a time-stamped file name for the report\n",
    "file_timestamp = time.strftime(\"%Y_%m_%d_%H_%M\")\n",
    "filename = 'attachments_report '+file_timestamp+'.csv' \n",
    "\n",
    "# Create the CSV.\n",
    "final_report.to_csv(filename)"
   ]
  }
 ],
 "metadata": {
  "kernelspec": {
   "display_name": "Python 2",
   "language": "python",
   "name": "python2"
  },
  "language_info": {
   "codemirror_mode": {
    "name": "ipython",
    "version": 2
   },
   "file_extension": ".py",
   "mimetype": "text/x-python",
   "name": "python",
   "nbconvert_exporter": "python",
   "pygments_lexer": "ipython2",
   "version": "2.7.12"
  }
 },
 "nbformat": 4,
 "nbformat_minor": 0
}
